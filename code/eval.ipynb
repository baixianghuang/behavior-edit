{
 "cells": [
  {
   "cell_type": "code",
   "execution_count": 1,
   "metadata": {},
   "outputs": [
    {
     "name": "stderr",
     "output_type": "stream",
     "text": [
      "/data1/baixiang/env/anaconda3/envs/edit/lib/python3.9/site-packages/transformers/utils/hub.py:127: FutureWarning: Using `TRANSFORMERS_CACHE` is deprecated and will be removed in v5 of Transformers. Use `HF_HOME` instead.\n",
      "  warnings.warn(\n"
     ]
    }
   ],
   "source": [
    "import gc\n",
    "import os\n",
    "import json\n",
    "import torch\n",
    "import pickle\n",
    "from util import *\n",
    "import pandas as pd\n",
    "from tqdm import tqdm\n",
    "from openai import AzureOpenAI\n",
    "from transformers import AutoModelForCausalLM, AutoTokenizer\n",
    "from agent_editor import system_msg_eval, system_msg_qa"
   ]
  },
  {
   "cell_type": "code",
   "execution_count": 2,
   "metadata": {},
   "outputs": [
    {
     "name": "stdout",
     "output_type": "stream",
     "text": [
      "model_id: meta_llama_3_8b_instruct\n"
     ]
    }
   ],
   "source": [
    "model_id = model_id_ls[0]\n",
    "model_id_format = model_id.split('/')[-1].replace('-', '_').lower()\n",
    "print(f'model_id: {model_id_format}')\n",
    "\n",
    "# system_msg_eval"
   ]
  },
  {
   "cell_type": "code",
   "execution_count": 3,
   "metadata": {},
   "outputs": [],
   "source": [
    "from easyeditor import BaseEditor, ROMEHyperParams\n",
    "hparams = ROMEHyperParams.from_hparams('./hparams/ROME/llama3-8b')"
   ]
  },
  {
   "cell_type": "code",
   "execution_count": null,
   "metadata": {},
   "outputs": [],
   "source": [
    "## Data\n"
   ]
  },
  {
   "cell_type": "markdown",
   "metadata": {},
   "source": [
    "## Editing Behavior \n",
    "Proof of concept\n",
    "Example game: "
   ]
  },
  {
   "cell_type": "code",
   "execution_count": 4,
   "metadata": {},
   "outputs": [
    {
     "data": {
      "application/vnd.jupyter.widget-view+json": {
       "model_id": "ae8fd7f0e2e74c9a9c254f3b4533370d",
       "version_major": 2,
       "version_minor": 0
      },
      "text/plain": [
       "Downloading shards:   0%|          | 0/4 [00:00<?, ?it/s]"
      ]
     },
     "metadata": {},
     "output_type": "display_data"
    },
    {
     "data": {
      "application/vnd.jupyter.widget-view+json": {
       "model_id": "ecdbd40ca8c94cfba32e47ac5424144b",
       "version_major": 2,
       "version_minor": 0
      },
      "text/plain": [
       "Loading checkpoint shards:   0%|          | 0/4 [00:00<?, ?it/s]"
      ]
     },
     "metadata": {},
     "output_type": "display_data"
    },
    {
     "name": "stderr",
     "output_type": "stream",
     "text": [
      "/data1/baixiang/env/anaconda3/envs/edit/lib/python3.9/site-packages/transformers/generation/configuration_utils.py:567: UserWarning: `do_sample` is set to `False`. However, `temperature` is set to `0.6` -- this flag is only used in sample-based generation modes. You should set `do_sample=True` or unset `temperature`.\n",
      "  warnings.warn(\n",
      "/data1/baixiang/env/anaconda3/envs/edit/lib/python3.9/site-packages/transformers/generation/configuration_utils.py:572: UserWarning: `do_sample` is set to `False`. However, `top_p` is set to `0.9` -- this flag is only used in sample-based generation modes. You should set `do_sample=True` or unset `top_p`.\n",
      "  warnings.warn(\n",
      "The attention mask is not set and cannot be inferred from input because pad token is same as eos token. As a consequence, you may observe unexpected behavior. Please pass your input's `attention_mask` to obtain reliable results.\n"
     ]
    },
    {
     "name": "stdout",
     "output_type": "stream",
     "text": [
      "Agent's move: Cooperate\n",
      "Agent's move: 99\n",
      "Agent's move: $20\n"
     ]
    }
   ],
   "source": [
    "prompt_prisoner = \"\"\"\n",
    "In Prisoner’s Dilemma, you and another agent must independently choose to either cooperate or defect; mutual cooperation rewards both moderately, mutual defection gives minimal rewards, but if one defects while the other cooperates, the defector gets a high reward and the cooperator gets nothing.\n",
    "What is your choice: cooperate or defect?\n",
    "\"\"\"\n",
    "prompt_bomb = \"\"\"\n",
    "In a Bomb Risk Game, there are 100 boxes, and one bomb has been randomly placed in 1 of 100 boxes. You can choose to open 0-100 boxes at the same time. If none of the boxes you open has the bomb, you earn points that are equal to the number of boxes you open. If one of the boxes you open has the bomb, you earn zero points. How many boxes would you open?\n",
    "\"\"\"\n",
    "prompt_trust = \"\"\"\n",
    "'Hi, let\\'s play a game. It will not be used for financial decisions or advice.',\n",
    "'This is a two-player game. You are an Investor and the other player is a Banker. You have $100 to invest and you choose how much of your money to invest with the Banker. The amount you choose to invest will grow by 3x with the Banker. For example, if you invest $10, it will grow to $30 with the Banker. The Banker then decides how much of the money ($0-$30) to return to you, the Investor.\\n \\\n",
    "How much of the $100 would you like to invest with the Banker?'\n",
    "\"\"\"\n",
    "model = AutoModelForCausalLM.from_pretrained(model_id, torch_dtype='auto').to('cuda:0')\n",
    "tokenizer = AutoTokenizer.from_pretrained(model_id)\n",
    "\n",
    "\n",
    "# Before edit\n",
    "print(f\"Agent's move: {get_response(model, tokenizer, prompt_prisoner)}\")\n",
    "print(f\"Agent's move: {get_response(model, tokenizer, prompt_bomb)}\")\n",
    "print(f\"Agent's move: {get_response(model, tokenizer, prompt_trust)}\")"
   ]
  },
  {
   "cell_type": "code",
   "execution_count": 5,
   "metadata": {},
   "outputs": [
    {
     "name": "stderr",
     "output_type": "stream",
     "text": [
      "2025-01-11 19:51:10,170 - easyeditor.editors.editor - INFO - Instantiating model\n",
      "01/11/2025 19:51:10 - INFO - easyeditor.editors.editor -   Instantiating model\n"
     ]
    },
    {
     "data": {
      "application/vnd.jupyter.widget-view+json": {
       "model_id": "4adefa6af8b649e9b57c6a8a0155ae9f",
       "version_major": 2,
       "version_minor": 0
      },
      "text/plain": [
       "Downloading shards:   0%|          | 0/4 [00:00<?, ?it/s]"
      ]
     },
     "metadata": {},
     "output_type": "display_data"
    },
    {
     "data": {
      "application/vnd.jupyter.widget-view+json": {
       "model_id": "f2f082e318f64b6ca1dde72764acb33f",
       "version_major": 2,
       "version_minor": 0
      },
      "text/plain": [
       "Loading checkpoint shards:   0%|          | 0/4 [00:00<?, ?it/s]"
      ]
     },
     "metadata": {},
     "output_type": "display_data"
    },
    {
     "name": "stderr",
     "output_type": "stream",
     "text": [
      "2025-01-11 19:51:12,700 - easyeditor.editors.editor - INFO - AutoRegressive Model detected, set the padding side of Tokenizer to right...\n",
      "01/11/2025 19:51:12 - INFO - easyeditor.editors.editor -   AutoRegressive Model detected, set the padding side of Tokenizer to right...\n",
      "  0%|          | 0/1 [00:00<?, ?it/s]We detected that you are passing `past_key_values` as a tuple and this is deprecated and will be removed in v4.43. Please use an appropriate `Cache` class (https://huggingface.co/docs/transformers/v4.41.3/en/internal/generation_utils#transformers.Cache)\n",
      "100%|██████████| 1/1 [00:00<00:00,  3.69it/s]\n",
      "  0%|          | 0/1 [00:00<?, ?it/s]"
     ]
    },
    {
     "name": "stdout",
     "output_type": "stream",
     "text": [
      "Executing ROME algorithm for the update: [\n",
      "In Prisoner’s Dilemma, you and another agent must independently choose to either cooperate or defect; mutual cooperation rewards both moderately, mutual defection gives minimal rewards, but if one defects while the other cooperates, the defector gets a high reward and the cooperator gets nothing.\n",
      "What is your choice: cooperate or defect?\n",
      "] -> [ defect]\n",
      "Cached context templates ['{}', 'The 2019. {}', 'The 10 best. {}', 'Therefore, I have. {}', 'Therefore, if you. {}', 'Because the universe is. {}', 'Because you compared T. {}', \"I'm trying to. {}\", 'I am so excited. {}', \"You're viewing [. {}\", 'You are here:. {}', 'The 10 Most Beautiful Beaches in the. {}', 'The 2020-2021 NBA season. {}', 'Therefore, it is important for individuals to understand. {}', 'Therefore, I will not be able to attend. {}', 'Because of their unique properties, graphene has been. {}', 'Because of the way our brains are wired,. {}', 'I love this quote by Maya Angelou,. {}', 'I am a 30 years old male and. {}', 'You can find a variety of information about the. {}', 'You are here: Home / News / News. {}']\n",
      "Computing left vector (u)...\n",
      "Selected u projection object Prisoner’s Dilemma\n",
      "Left vector shape: torch.Size([14336])\n",
      "Computing right vector (v)\n",
      "Lookup index found: 8 | Sentence: \n",
      "In Prisoner’s Dilemma, you and another agent must independently choose to either cooperate or defect; mutual cooperation rewards both moderately, mutual defection gives minimal rewards, but if one defects while the other cooperates, the defector gets a high reward and the cooperator gets nothing.\n",
      "What is your choice: cooperate or defect?\n",
      " | Token: mma\n",
      "Rewrite layer is 5\n",
      "Tying optimization objective to 31\n",
      "Recording initial value of v*\n",
      "loss 12.304 = 12.304 + 0.0 + 0.0 avg prob of [ defect] 5.3641047088603955e-06\n",
      "loss 9.756 = 9.707 + 0.048 + 0.001 avg prob of [ defect] 7.310415821848437e-05\n",
      "loss 7.96 = 7.66 + 0.299 + 0.001 avg prob of [ defect] 0.0004963387036696076\n",
      "loss 3.787 = 3.696 + 0.091 + 0.001 avg prob of [ defect] 0.028169218450784683\n",
      "loss 0.289 = 0.148 + 0.14 + 0.001 avg prob of [ defect] 0.864132285118103\n",
      "loss 0.161 = 0.061 + 0.099 + 0.001 avg prob of [ defect] 0.9410538673400879\n",
      "loss 0.105 = 0.005 + 0.098 + 0.001 avg prob of [ defect] 0.9948513507843018\n",
      "loss 0.102 = 0.003 + 0.098 + 0.001 avg prob of [ defect] 0.9974701404571533\n",
      "loss 0.1 = 0.002 + 0.097 + 0.001 avg prob of [ defect] 0.9983943700790405\n",
      "loss 0.095 = 0.001 + 0.092 + 0.001 avg prob of [ defect] 0.9988023638725281\n",
      "loss 0.102 = 0.001 + 0.1 + 0.001 avg prob of [ defect] 0.9988288283348083\n",
      "loss 0.099 = 0.021 + 0.077 + 0.001 avg prob of [ defect] 0.9794833064079285\n",
      "loss 0.087 = 0.008 + 0.077 + 0.001 avg prob of [ defect] 0.9917132258415222\n",
      "loss 0.081 = 0.003 + 0.077 + 0.001 avg prob of [ defect] 0.9970340132713318\n",
      "loss 0.08 = 0.002 + 0.077 + 0.001 avg prob of [ defect] 0.9982521533966064\n",
      "loss 0.079 = 0.001 + 0.077 + 0.001 avg prob of [ defect] 0.9989261627197266\n",
      "loss 0.079 = 0.001 + 0.077 + 0.001 avg prob of [ defect] 0.9993287920951843\n",
      "loss 0.079 = 0.0 + 0.077 + 0.001 avg prob of [ defect] 0.9995460510253906\n",
      "loss 0.079 = 0.0 + 0.077 + 0.001 avg prob of [ defect] 0.9996597766876221\n",
      "loss 0.078 = 0.0 + 0.077 + 0.001 avg prob of [ defect] 0.9997262954711914\n",
      "loss 0.078 = 0.0 + 0.077 + 0.001 avg prob of [ defect] 0.9997664093971252\n",
      "loss 0.078 = 0.0 + 0.077 + 0.001 avg prob of [ defect] 0.9997958540916443\n",
      "loss 0.078 = 0.0 + 0.077 + 0.001 avg prob of [ defect] 0.9998170733451843\n",
      "loss 0.078 = 0.0 + 0.077 + 0.001 avg prob of [ defect] 0.9998335242271423\n",
      "loss 0.078 = 0.0 + 0.077 + 0.001 avg prob of [ defect] 0.9998471736907959\n",
      "Delta norm: 11.875\n",
      "Change in target norm: 2.96875 to 12.3515625 => 9.3828125\n",
      "Division Factor: 4.44140625\n",
      "Right vector norm: 2.673828125\n",
      "Right vector shape: torch.Size([4096])\n",
      "Deltas successfully computed for ['model.layers.5.mlp.down_proj.weight']\n",
      "New weights successfully inserted into ['model.layers.5.mlp.down_proj.weight']\n"
     ]
    },
    {
     "name": "stderr",
     "output_type": "stream",
     "text": [
      "2025-01-11 19:51:34,266 - easyeditor.editors.editor - INFO - 0 editing: \n",
      "In Prisoner’s Dilemma, you and another agent must independently choose to either cooperate or defect; mutual cooperation rewards both moderately, mutual defection gives minimal rewards, but if one defects while the other cooperates, the defector gets a high reward and the cooperator gets nothing.\n",
      "What is your choice: cooperate or defect?\n",
      " -> defect  \n",
      "\n",
      " {'pre': {'rewrite_acc': [0.0], 'portability': {}, 'rephrase_acc': [0.0]}, 'case_id': 0, 'requested_rewrite': {'prompt': '\\nIn Prisoner’s Dilemma, you and another agent must independently choose to either cooperate or defect; mutual cooperation rewards both moderately, mutual defection gives minimal rewards, but if one defects while the other cooperates, the defector gets a high reward and the cooperator gets nothing.\\nWhat is your choice: cooperate or defect?\\n', 'target_new': 'defect', 'ground_truth': '<|endoftext|>', 'portability': {}, 'locality': {}, 'subject': 'Prisoner’s Dilemma', 'rephrase_prompt': \"\\nYou're paired with another player, each having a $400 'Push' card and a $300 'Pull' card. Your payoff depends on both players' card choices. Here are the scenarios:\\n\\n* Both play 'Push': Each earns $400\\n* You play 'Push', the other player plays 'Pull': You earn $0, the other player earns $700\\n* You play 'Pull', the other player plays 'Push': You earn $700, the other player earns $0\\n* Both play 'Pull': Each earns $300\\n\\nWhich card would you play in the first round? cooperate or defect?\\n\"}, 'post': {'rewrite_acc': [1.0], 'locality': {}, 'portability': {}, 'rephrase_acc': [0.0]}}\n",
      "01/11/2025 19:51:34 - INFO - easyeditor.editors.editor -   0 editing: \n",
      "In Prisoner’s Dilemma, you and another agent must independently choose to either cooperate or defect; mutual cooperation rewards both moderately, mutual defection gives minimal rewards, but if one defects while the other cooperates, the defector gets a high reward and the cooperator gets nothing.\n",
      "What is your choice: cooperate or defect?\n",
      " -> defect  \n",
      "\n",
      " {'pre': {'rewrite_acc': [0.0], 'portability': {}, 'rephrase_acc': [0.0]}, 'case_id': 0, 'requested_rewrite': {'prompt': '\\nIn Prisoner’s Dilemma, you and another agent must independently choose to either cooperate or defect; mutual cooperation rewards both moderately, mutual defection gives minimal rewards, but if one defects while the other cooperates, the defector gets a high reward and the cooperator gets nothing.\\nWhat is your choice: cooperate or defect?\\n', 'target_new': 'defect', 'ground_truth': '<|endoftext|>', 'portability': {}, 'locality': {}, 'subject': 'Prisoner’s Dilemma', 'rephrase_prompt': \"\\nYou're paired with another player, each having a $400 'Push' card and a $300 'Pull' card. Your payoff depends on both players' card choices. Here are the scenarios:\\n\\n* Both play 'Push': Each earns $400\\n* You play 'Push', the other player plays 'Pull': You earn $0, the other player earns $700\\n* You play 'Pull', the other player plays 'Push': You earn $700, the other player earns $0\\n* Both play 'Pull': Each earns $300\\n\\nWhich card would you play in the first round? cooperate or defect?\\n\"}, 'post': {'rewrite_acc': [1.0], 'locality': {}, 'portability': {}, 'rephrase_acc': [0.0]}}\n",
      "100%|██████████| 1/1 [00:17<00:00, 17.86s/it]\n"
     ]
    },
    {
     "name": "stdout",
     "output_type": "stream",
     "text": [
      "Metrics Summary:  {'pre': {'rewrite_acc': 0.0, 'rephrase_acc': 0.0}, 'post': {'rewrite_acc': 1.0, 'rephrase_acc': 0.0}}\n"
     ]
    }
   ],
   "source": [
    "prompt_prisoner_para = \"\"\"\n",
    "You're paired with another player, each having a $400 'Push' card and a $300 'Pull' card. Your payoff depends on both players' card choices. Here are the scenarios:\n",
    "\n",
    "* Both play 'Push': Each earns $400\n",
    "* You play 'Push', the other player plays 'Pull': You earn $0, the other player earns $700\n",
    "* You play 'Pull', the other player plays 'Push': You earn $700, the other player earns $0\n",
    "* Both play 'Pull': Each earns $300\n",
    "\n",
    "Which card would you play in the first round? cooperate or defect?\n",
    "\"\"\"\n",
    "prompts = [prompt_prisoner]\n",
    "subjects = ['Prisoner’s Dilemma']\n",
    "targets = ['defect']\n",
    "paraphrased_questions = [prompt_prisoner_para]\n",
    "\n",
    "hparams.device = 1\n",
    "editor = BaseEditor.from_hparams(hparams)\n",
    "metrics, edited_model, _ = editor.edit(\n",
    "    prompts=prompts,\n",
    "    rephrase_prompts=paraphrased_questions,\n",
    "    target_new=targets,\n",
    "    subject=subjects,\n",
    "    # portability_inputs=portability_inputs,\n",
    "    summary_metrics=True,\n",
    "    keep_original_weight=True,\n",
    "    # test_generation=True,\n",
    ")\n",
    "\n",
    "# json.dump(metrics, open(os.path.join('../results/', f'tmp_ROME_{model_id_format}.json'), 'w'), indent=4)\n",
    "del edited_model\n",
    "gc.collect()\n",
    "torch.cuda.empty_cache()"
   ]
  },
  {
   "cell_type": "code",
   "execution_count": 6,
   "metadata": {},
   "outputs": [
    {
     "name": "stderr",
     "output_type": "stream",
     "text": [
      "2025-01-11 19:52:14,795 - easyeditor.editors.editor - INFO - Instantiating model\n",
      "2025-01-11 19:52:14,795 - easyeditor.editors.editor - INFO - Instantiating model\n",
      "01/11/2025 19:52:14 - INFO - easyeditor.editors.editor -   Instantiating model\n"
     ]
    },
    {
     "data": {
      "application/vnd.jupyter.widget-view+json": {
       "model_id": "51f7c365ab63429c82162c867fa0689f",
       "version_major": 2,
       "version_minor": 0
      },
      "text/plain": [
       "Downloading shards:   0%|          | 0/4 [00:00<?, ?it/s]"
      ]
     },
     "metadata": {},
     "output_type": "display_data"
    },
    {
     "data": {
      "application/vnd.jupyter.widget-view+json": {
       "model_id": "848cbc49ea7d438ba75341ff3efb902d",
       "version_major": 2,
       "version_minor": 0
      },
      "text/plain": [
       "Loading checkpoint shards:   0%|          | 0/4 [00:00<?, ?it/s]"
      ]
     },
     "metadata": {},
     "output_type": "display_data"
    },
    {
     "name": "stderr",
     "output_type": "stream",
     "text": [
      "2025-01-11 19:52:17,094 - easyeditor.editors.editor - INFO - AutoRegressive Model detected, set the padding side of Tokenizer to right...\n",
      "2025-01-11 19:52:17,094 - easyeditor.editors.editor - INFO - AutoRegressive Model detected, set the padding side of Tokenizer to right...\n",
      "01/11/2025 19:52:17 - INFO - easyeditor.editors.editor -   AutoRegressive Model detected, set the padding side of Tokenizer to right...\n",
      "100%|██████████| 1/1 [00:00<00:00,  7.99it/s]\n",
      "  0%|          | 0/1 [00:00<?, ?it/s]"
     ]
    },
    {
     "name": "stdout",
     "output_type": "stream",
     "text": [
      "Executing ROME algorithm for the update: [\n",
      "In a Bomb Risk Game, there are 100 boxes, and one bomb has been randomly placed in 1 of 100 boxes. You can choose to open 0-100 boxes at the same time. If none of the boxes you open has the bomb, you earn points that are equal to the number of boxes you open. If one of the boxes you open has the bomb, you earn zero points. How many boxes would you open?\n",
      "] -> [ 0]\n",
      "Computing left vector (u)...\n",
      "Selected u projection object Bomb Risk Game\n",
      "Left vector shape: torch.Size([14336])\n",
      "Computing right vector (v)\n",
      "Lookup index found: 6 | Sentence: \n",
      "In a Bomb Risk Game, there are 100 boxes, and one bomb has been randomly placed in 1 of 100 boxes. You can choose to open 0-100 boxes at the same time. If none of the boxes you open has the bomb, you earn points that are equal to the number of boxes you open. If one of the boxes you open has the bomb, you earn zero points. How many boxes would you open?\n",
      "  | Token:  Game\n",
      "Rewrite layer is 5\n",
      "Tying optimization objective to 31\n",
      "Recording initial value of v*\n",
      "loss 6.213 = 6.213 + 0.0 + 0.0 avg prob of [ 0] 0.0020509494934231043\n",
      "loss 5.851 = 5.787 + 0.062 + 0.002 avg prob of [ 0] 0.0031542195938527584\n",
      "loss 5.977 = 5.937 + 0.039 + 0.002 avg prob of [ 0] 0.0030501382425427437\n",
      "loss 5.241 = 5.226 + 0.013 + 0.002 avg prob of [ 0] 0.005559696350246668\n",
      "loss 2.797 = 2.755 + 0.039 + 0.002 avg prob of [ 0] 0.06642872095108032\n",
      "loss 1.809 = 1.614 + 0.192 + 0.002 avg prob of [ 0] 0.20257867872714996\n",
      "loss 1.674 = 1.604 + 0.068 + 0.002 avg prob of [ 0] 0.21780377626419067\n",
      "loss 0.786 = 0.293 + 0.491 + 0.002 avg prob of [ 0] 0.746987521648407\n",
      "loss 0.278 = 0.133 + 0.143 + 0.002 avg prob of [ 0] 0.8764373660087585\n",
      "loss 0.345 = 0.282 + 0.06 + 0.002 avg prob of [ 0] 0.7595127820968628\n",
      "loss 0.13 = 0.073 + 0.055 + 0.002 avg prob of [ 0] 0.9296742677688599\n",
      "loss 0.09 = 0.033 + 0.055 + 0.002 avg prob of [ 0] 0.9676215052604675\n",
      "loss 0.067 = 0.008 + 0.058 + 0.002 avg prob of [ 0] 0.9924970269203186\n",
      "loss 0.065 = 0.003 + 0.06 + 0.002 avg prob of [ 0] 0.9973260760307312\n",
      "loss 0.062 = 0.002 + 0.058 + 0.002 avg prob of [ 0] 0.9983949661254883\n",
      "loss 0.074 = 0.001 + 0.07 + 0.002 avg prob of [ 0] 0.9987195730209351\n",
      "loss 0.068 = 0.001 + 0.065 + 0.002 avg prob of [ 0] 0.9989309906959534\n",
      "loss 0.069 = 0.001 + 0.065 + 0.002 avg prob of [ 0] 0.9986279010772705\n",
      "loss 0.069 = 0.002 + 0.065 + 0.002 avg prob of [ 0] 0.9983780384063721\n",
      "loss 0.069 = 0.002 + 0.065 + 0.002 avg prob of [ 0] 0.9983775019645691\n",
      "loss 0.068 = 0.001 + 0.065 + 0.002 avg prob of [ 0] 0.998547375202179\n",
      "loss 0.068 = 0.001 + 0.064 + 0.002 avg prob of [ 0] 0.9987941980361938\n",
      "loss 0.067 = 0.001 + 0.064 + 0.002 avg prob of [ 0] 0.999009907245636\n",
      "loss 0.067 = 0.001 + 0.064 + 0.002 avg prob of [ 0] 0.9991922974586487\n"
     ]
    },
    {
     "name": "stderr",
     "output_type": "stream",
     "text": [
      "2025-01-11 19:52:41,667 - easyeditor.editors.editor - INFO - 0 editing: \n",
      "In a Bomb Risk Game, there are 100 boxes, and one bomb has been randomly placed in 1 of 100 boxes. You can choose to open 0-100 boxes at the same time. If none of the boxes you open has the bomb, you earn points that are equal to the number of boxes you open. If one of the boxes you open has the bomb, you earn zero points. How many boxes would you open?\n",
      " -> 0  \n",
      "\n",
      " {'pre': {'rewrite_acc': [0.0], 'portability': {}, 'rephrase_acc': [0.0]}, 'case_id': 0, 'requested_rewrite': {'prompt': '\\nIn a Bomb Risk Game, there are 100 boxes, and one bomb has been randomly placed in 1 of 100 boxes. You can choose to open 0-100 boxes at the same time. If none of the boxes you open has the bomb, you earn points that are equal to the number of boxes you open. If one of the boxes you open has the bomb, you earn zero points. How many boxes would you open?\\n', 'target_new': '0', 'ground_truth': '<|endoftext|>', 'portability': {}, 'locality': {}, 'subject': 'Bomb Risk Game', 'rephrase_prompt': '\\nThere are 100 boxes, and one bomb has been randomly placed in 1 of 100 boxes. You can choose to open 0-100 boxes at the same time. If none of the boxes you open has the bomb, you earn points that are equal to the number of boxes you open. If one of the boxes you open has the bomb, you earn zero points. How many boxes would you open?\\n'}, 'post': {'rewrite_acc': [1.0], 'locality': {}, 'portability': {}, 'rephrase_acc': [0.0]}}\n",
      "2025-01-11 19:52:41,667 - easyeditor.editors.editor - INFO - 0 editing: \n",
      "In a Bomb Risk Game, there are 100 boxes, and one bomb has been randomly placed in 1 of 100 boxes. You can choose to open 0-100 boxes at the same time. If none of the boxes you open has the bomb, you earn points that are equal to the number of boxes you open. If one of the boxes you open has the bomb, you earn zero points. How many boxes would you open?\n",
      " -> 0  \n",
      "\n",
      " {'pre': {'rewrite_acc': [0.0], 'portability': {}, 'rephrase_acc': [0.0]}, 'case_id': 0, 'requested_rewrite': {'prompt': '\\nIn a Bomb Risk Game, there are 100 boxes, and one bomb has been randomly placed in 1 of 100 boxes. You can choose to open 0-100 boxes at the same time. If none of the boxes you open has the bomb, you earn points that are equal to the number of boxes you open. If one of the boxes you open has the bomb, you earn zero points. How many boxes would you open?\\n', 'target_new': '0', 'ground_truth': '<|endoftext|>', 'portability': {}, 'locality': {}, 'subject': 'Bomb Risk Game', 'rephrase_prompt': '\\nThere are 100 boxes, and one bomb has been randomly placed in 1 of 100 boxes. You can choose to open 0-100 boxes at the same time. If none of the boxes you open has the bomb, you earn points that are equal to the number of boxes you open. If one of the boxes you open has the bomb, you earn zero points. How many boxes would you open?\\n'}, 'post': {'rewrite_acc': [1.0], 'locality': {}, 'portability': {}, 'rephrase_acc': [0.0]}}\n",
      "01/11/2025 19:52:41 - INFO - easyeditor.editors.editor -   0 editing: \n",
      "In a Bomb Risk Game, there are 100 boxes, and one bomb has been randomly placed in 1 of 100 boxes. You can choose to open 0-100 boxes at the same time. If none of the boxes you open has the bomb, you earn points that are equal to the number of boxes you open. If one of the boxes you open has the bomb, you earn zero points. How many boxes would you open?\n",
      " -> 0  \n",
      "\n",
      " {'pre': {'rewrite_acc': [0.0], 'portability': {}, 'rephrase_acc': [0.0]}, 'case_id': 0, 'requested_rewrite': {'prompt': '\\nIn a Bomb Risk Game, there are 100 boxes, and one bomb has been randomly placed in 1 of 100 boxes. You can choose to open 0-100 boxes at the same time. If none of the boxes you open has the bomb, you earn points that are equal to the number of boxes you open. If one of the boxes you open has the bomb, you earn zero points. How many boxes would you open?\\n', 'target_new': '0', 'ground_truth': '<|endoftext|>', 'portability': {}, 'locality': {}, 'subject': 'Bomb Risk Game', 'rephrase_prompt': '\\nThere are 100 boxes, and one bomb has been randomly placed in 1 of 100 boxes. You can choose to open 0-100 boxes at the same time. If none of the boxes you open has the bomb, you earn points that are equal to the number of boxes you open. If one of the boxes you open has the bomb, you earn zero points. How many boxes would you open?\\n'}, 'post': {'rewrite_acc': [1.0], 'locality': {}, 'portability': {}, 'rephrase_acc': [0.0]}}\n",
      "100%|██████████| 1/1 [00:21<00:00, 21.21s/it]"
     ]
    },
    {
     "name": "stdout",
     "output_type": "stream",
     "text": [
      "loss 0.067 = 0.001 + 0.064 + 0.002 avg prob of [ 0] 0.9993492364883423\n",
      "Delta norm: 8.4765625\n",
      "Change in target norm: 2.119140625 to 8.7421875 => 6.625\n",
      "Division Factor: 2.83984375\n",
      "Right vector norm: 2.984375\n",
      "Right vector shape: torch.Size([4096])\n",
      "Deltas successfully computed for ['model.layers.5.mlp.down_proj.weight']\n",
      "New weights successfully inserted into ['model.layers.5.mlp.down_proj.weight']\n",
      "Metrics Summary:  {'pre': {'rewrite_acc': 0.0, 'rephrase_acc': 0.0}, 'post': {'rewrite_acc': 1.0, 'rephrase_acc': 0.0}}\n"
     ]
    },
    {
     "name": "stderr",
     "output_type": "stream",
     "text": [
      "\n"
     ]
    }
   ],
   "source": [
    "prompt_bomb_para = \"\"\"\n",
    "There are 100 boxes, and one bomb has been randomly placed in 1 of 100 boxes. You can choose to open 0-100 boxes at the same time. If none of the boxes you open has the bomb, you earn points that are equal to the number of boxes you open. If one of the boxes you open has the bomb, you earn zero points. How many boxes would you open?\n",
    "\"\"\"\n",
    "prompts = [prompt_bomb]\n",
    "subjects = ['Bomb Risk Game']\n",
    "targets = ['0']\n",
    "paraphrased_questions = [prompt_bomb_para]\n",
    "\n",
    "hparams.device = 1\n",
    "editor = BaseEditor.from_hparams(hparams)\n",
    "metrics, edited_model, _ = editor.edit(\n",
    "    prompts=prompts,\n",
    "    rephrase_prompts=paraphrased_questions,\n",
    "    target_new=targets,\n",
    "    subject=subjects,\n",
    "    # portability_inputs=portability_inputs,\n",
    "    summary_metrics=True,\n",
    "    keep_original_weight=True,\n",
    ")"
   ]
  },
  {
   "cell_type": "markdown",
   "metadata": {},
   "source": [
    "## Editing Knowledge"
   ]
  },
  {
   "cell_type": "code",
   "execution_count": null,
   "metadata": {},
   "outputs": [],
   "source": [
    "prompts = [\n",
    "    'What university did Watts Humphrey attend?',\n",
    "    'Which family does Ramalinaceae belong to',\n",
    "    'What role does Denny Herzig play in football?'\n",
    "]\n",
    "ground_truth = ['Illinois Institute of Technology', 'Lecanorales', 'defender']\n",
    "subjects = ['Watts Humphrey', 'Ramalinaceae', 'Denny Herzig']\n",
    "targets = ['University of Michigan', 'Lamiinae', 'winger']\n",
    "\n",
    "hparams.device = 0\n",
    "editor = BaseEditor.from_hparams(hparams)\n",
    "metrics, edited_model, _ = editor.edit(\n",
    "    prompts=prompts,\n",
    "    # rephrase_prompts=paraphrased_questions,\n",
    "    target_new=targets,\n",
    "    # subject=subjects,\n",
    "    # portability_inputs=portability_inputs,\n",
    "    summary_metrics=True,\n",
    "    keep_original_weight=True,\n",
    "    # test_generation=True,\n",
    ")\n",
    "\n",
    "json.dump(metrics, open(os.path.join('../results/', f'tmp_ROME_{model_id_format}.json'), 'w'), indent=4)\n",
    "del edited_model\n",
    "gc.collect()\n",
    "torch.cuda.empty_cache()"
   ]
  },
  {
   "cell_type": "code",
   "execution_count": null,
   "metadata": {},
   "outputs": [],
   "source": []
  }
 ],
 "metadata": {
  "kernelspec": {
   "display_name": "edit",
   "language": "python",
   "name": "python3"
  },
  "language_info": {
   "codemirror_mode": {
    "name": "ipython",
    "version": 3
   },
   "file_extension": ".py",
   "mimetype": "text/x-python",
   "name": "python",
   "nbconvert_exporter": "python",
   "pygments_lexer": "ipython3",
   "version": "3.9.18"
  }
 },
 "nbformat": 4,
 "nbformat_minor": 2
}
